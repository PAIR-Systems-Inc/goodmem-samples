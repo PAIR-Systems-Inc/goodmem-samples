{
 "cells": [
  {
   "cell_type": "markdown",
   "metadata": {},
   "source": [
    "# Building a Basic RAG Agent with GoodMem in JavaScript\n",
    "\n",
    "## Overview\n",
    "\n",
    "This tutorial will guide you through building a complete **Retrieval-Augmented Generation (RAG)** system using GoodMem's vector memory capabilities with JavaScript. By the end of this guide, you'll have a functional Q&A system that can:\n",
    "\n",
    "- 🔍 **Semantically search** through your documents\n",
    "- 📝 **Generate contextual answers** using retrieved information \n",
    "- 🏗️ **Scale to handle** large document collections\n",
    "\n",
    "### What is RAG?\n",
    "\n",
    "RAG combines the power of **retrieval** (finding relevant information) with **generation** (creating natural language responses). This approach allows AI systems to provide accurate, context-aware answers by:\n",
    "\n",
    "1. **Retrieving** relevant documents from a knowledge base\n",
    "2. **Augmenting** the query with this context\n",
    "3. **Generating** a comprehensive answer using both the query and retrieved information\n",
    "\n",
    "### Why GoodMem for RAG?\n",
    "\n",
    "GoodMem provides enterprise-grade vector storage with:\n",
    "- **Multiple embedder support** for optimal retrieval accuracy\n",
    "- **Streaming APIs** for real-time responses\n",
    "- **Advanced post-processing** with reranking and summarization\n",
    "- **Scalable architecture** for production workloads"
   ]
  },
  {
   "cell_type": "markdown",
   "metadata": {},
   "source": [
    "## Prerequisites\n",
    "\n",
    "Before starting, ensure you have:\n",
    "\n",
    "- ✅ **GoodMem server running** (install with: `curl -s https://get.goodmem.ai | bash`)\n",
    "- ✅ **Node.js 14+** installed\n",
    "- ✅ **npm or yarn** for package management\n",
    "- ✅ **API key** for your GoodMem instance\n",
    "- ✅ **OpenAI API key** (optional, for the complete RAG demo)"
   ]
  },
  {
   "cell_type": "markdown",
   "metadata": {},
   "source": [
    "## Installation & Setup\n",
    "\n",
    "First, let's install the required packages:"
   ]
  },
  {
   "cell_type": "code",
   "execution_count": 1,
   "metadata": {
    "language_info": {
     "name": "polyglot-notebook"
    },
    "polyglot_notebook": {
     "kernelName": "javascript"
    }
   },
   "outputs": [
    {
     "name": "stdout",
     "output_type": "stream",
     "text": [
      "📦 To install dependencies, run:\n",
      "   npm install @pairsystems/goodmem-client\n",
      "\n",
      "💡 Make sure Node.js 14+ is installed\n"
     ]
    },
    {
     "data": {
      "text/plain": [
       "undefined"
      ]
     },
     "execution_count": 1,
     "metadata": {},
     "output_type": "execute_result"
    }
   ],
   "source": [
    "#!javascript\n",
    "// Install the GoodMem client library\n",
    "// Run in your terminal: npm install @pairsystems/goodmem-client --save\n",
    "\n",
    "console.log('📦 To install dependencies, run:');\n",
    "console.log('   npm install @pairsystems/goodmem-client');\n",
    "console.log('\\n💡 Make sure Node.js 14+ is installed');"
   ]
  },
  {
   "cell_type": "markdown",
   "metadata": {},
   "source": [
    "## Authentication & Configuration\n",
    "\n",
    "Let's configure our GoodMem client and test the connection:"
   ]
  },
  {
   "cell_type": "code",
   "execution_count": null,
   "metadata": {
    "language_info": {
     "name": "polyglot-notebook"
    },
    "polyglot_notebook": {
     "kernelName": "javascript"
    }
   },
   "outputs": [
    {
     "name": "stdout",
     "output_type": "stream",
     "text": [
      "GoodMem Host: http://localhost:8080\n",
      "API Key configured: Yes\n",
      "✅ StreamingClient initialized successfully\n",
      "✅ GoodMem client configured successfully!\n"
     ]
    },
    {
     "data": {
      "text/plain": [
       "undefined"
      ]
     },
     "execution_count": 2,
     "metadata": {},
     "output_type": "execute_result"
    }
   ],
   "source": [
    "const GoodMemClient = require('@pairsystems/goodmem-client');\n",
    "const fs = require('fs').promises;\n",
    "const path = require('path');\n",
    "\n",
    "// Configuration - Update these values for your setup\n",
    "const GOODMEM_HOST = process.env.GOODMEM_HOST || 'http://localhost:8080';\n",
    "const GOODMEM_API_KEY = process.env.GOODMEM_API_KEY || 'your-api-key-here';\n",
    "\n",
    "console.log('GoodMem Host:', GOODMEM_HOST);\n",
    "console.log('API Key configured:', GOODMEM_API_KEY !== 'your-api-key-here' ? 'Yes' : 'No - Please update');\n",
    "\n",
    "// Create and configure API client\n",
    "const apiClient = new GoodMemClient.ApiClient();\n",
    "apiClient.basePath = GOODMEM_HOST;\n",
    "apiClient.defaultHeaders = {\n",
    "    'X-API-Key': GOODMEM_API_KEY,\n",
    "    'Content-Type': 'application/json',\n",
    "    'Accept': 'application/json'\n",
    "};\n",
    "\n",
    "// Create API instances\n",
    "const spacesApi = new GoodMemClient.SpacesApi(apiClient);\n",
    "const memoriesApi = new GoodMemClient.MemoriesApi(apiClient);\n",
    "const embeddersApi = new GoodMemClient.EmbeddersApi(apiClient);\n",
    "\n",
    "// Create streaming client\n",
    "let streamingClient = null;\n",
    "try {\n",
    "    streamingClient = new GoodMemClient.StreamingClient(apiClient);\n",
    "    console.log('✅ StreamingClient initialized successfully');\n",
    "} catch (error) {\n",
    "    console.log('⚠️  StreamingClient not available:', error.message);\n",
    "}\n",
    "\n",
    "console.log('✅ GoodMem client configured successfully!');"
   ]
  },
  {
   "cell_type": "markdown",
   "metadata": {},
   "source": [
    "## Test Connection\n",
    "\n",
    "Let's verify we can connect to the GoodMem server:"
   ]
  },
  {
   "cell_type": "code",
   "execution_count": 3,
   "metadata": {},
   "outputs": [
    {
     "data": {
      "text/plain": [
       "Promise { <pending> }"
      ]
     },
     "execution_count": 3,
     "metadata": {},
     "output_type": "execute_result"
    },
    {
     "name": "stdout",
     "output_type": "stream",
     "text": [
      "✅ Successfully connected to GoodMem!\n",
      "   Found 3 existing spaces\n"
     ]
    }
   ],
   "source": [
    "// Test connection by listing existing spaces\n",
    "spacesApi.listSpaces()\n",
    "    .then(response => {\n",
    "        console.log('✅ Successfully connected to GoodMem!');\n",
    "        const spaces = response.spaces || [];\n",
    "        console.log(`   Found ${spaces.length} existing spaces`);\n",
    "    })\n",
    "    .catch(error => {\n",
    "        console.log('❌ Error connecting to GoodMem:', error.message);\n",
    "        console.log('   Please check your API key and host configuration');\n",
    "        if (error.status) {\n",
    "            console.log('   Response code:', error.status);\n",
    "        }\n",
    "    });"
   ]
  },
  {
   "cell_type": "markdown",
   "metadata": {},
   "source": [
    "## Creating Your First Space\n",
    "\n",
    "In GoodMem, a **Space** is a logical container for organizing memories. Each space has:\n",
    "- **Associated embedders** for generating vector representations\n",
    "- **Access controls** (public/private)\n",
    "- **Metadata labels** for organization\n",
    "\n",
    "Let's create a space for our RAG demo:"
   ]
  },
  {
   "cell_type": "code",
   "execution_count": 4,
   "metadata": {},
   "outputs": [
    {
     "data": {
      "text/plain": [
       "Promise { <pending> }"
      ]
     },
     "execution_count": 4,
     "metadata": {},
     "output_type": "execute_result"
    },
    {
     "name": "stdout",
     "output_type": "stream",
     "text": [
      "📋 Available Embedders (1):\n",
      "   1. vLLM Embedder - VLLM\n",
      "      Model: Qwen/Qwen3-Embedding-0.6B\n",
      "      ID: f7be2db4-6c48-402e-b5db-4daa25ba1584\n",
      "\n",
      "🎯 Using embedder: vLLM Embedder\n"
     ]
    }
   ],
   "source": [
    "// First, let's see what embedders are available\n",
    "let availableEmbedders = [];\n",
    "let defaultEmbedder = null;\n",
    "\n",
    "embeddersApi.listEmbedders()\n",
    "    .then(embeddersResponse => {\n",
    "        availableEmbedders = embeddersResponse.embedders || [];\n",
    "        \n",
    "        console.log(`📋 Available Embedders (${availableEmbedders.length}):`);\n",
    "        availableEmbedders.forEach((embedder, i) => {\n",
    "            console.log(`   ${i + 1}. ${embedder.displayName} - ${embedder.providerType}`);\n",
    "            console.log(`      Model: ${embedder.modelIdentifier || 'N/A'}`);\n",
    "            console.log(`      ID: ${embedder.embedderId}`);\n",
    "            console.log();\n",
    "        });\n",
    "        \n",
    "        if (availableEmbedders.length > 0) {\n",
    "            defaultEmbedder = availableEmbedders[0];\n",
    "            console.log(`🎯 Using embedder: ${defaultEmbedder.displayName}`);\n",
    "        } else {\n",
    "            console.log('⚠️  No embedders found. You may need to configure an embedder first.');\n",
    "            console.log('   Refer to the documentation: https://docs.goodmem.ai/docs/reference/cli/goodmem_embedder_create/');\n",
    "        }\n",
    "    })\n",
    "    .catch(error => {\n",
    "        console.log('❌ Error listing embedders:', error.message);\n",
    "    });"
   ]
  },
  {
   "cell_type": "code",
   "execution_count": 5,
   "metadata": {},
   "outputs": [
    {
     "name": "stdout",
     "output_type": "stream",
     "text": [
      "📋 Demo Chunking Configuration:\n",
      "   Chunk Size: 256 characters\n",
      "   Overlap: 25 characters\n",
      "   Strategy: KEEP_END\n",
      "   💡 This chunking config will be reused for all memory creation!\n",
      "\n"
     ]
    },
    {
     "data": {
      "text/plain": [
       "Promise { <pending> }"
      ]
     },
     "execution_count": 5,
     "metadata": {},
     "output_type": "execute_result"
    },
    {
     "name": "stdout",
     "output_type": "stream",
     "text": [
      "✅ Created space: RAG Demo Knowledge Base (JavaScript)\n",
      "   Space ID: 1bc738e9-c319-410e-b2c1-9a172d552ed7\n",
      "   Embedders: 1\n",
      "   Labels: {\"purpose\":\"rag-demo\",\"environment\":\"tutorial\",\"content-type\":\"documentation\",\"language\":\"javascript\"}\n",
      "   Chunking Config Saved: 256 chars with 25 overlap\n"
     ]
    }
   ],
   "source": [
    "// Create a space for our RAG demo\n",
    "const SPACE_NAME = 'RAG Demo Knowledge Base (JavaScript)';\n",
    "let demoSpace = null;\n",
    "\n",
    "// Define chunking configuration that we'll reuse throughout the tutorial\n",
    "const DEMO_CHUNKING_CONFIG = {\n",
    "    recursive: {\n",
    "        chunkSize: 256,\n",
    "        chunkOverlap: 25,\n",
    "        separators: ['\\n\\n', '\\n', '. ', ' ', ''],\n",
    "        keepStrategy: 'KEEP_END',\n",
    "        separatorIsRegex: false,\n",
    "        lengthMeasurement: 'CHARACTER_COUNT'\n",
    "    }\n",
    "};\n",
    "\n",
    "console.log('📋 Demo Chunking Configuration:');\n",
    "console.log(`   Chunk Size: ${DEMO_CHUNKING_CONFIG.recursive.chunkSize} characters`);\n",
    "console.log(`   Overlap: ${DEMO_CHUNKING_CONFIG.recursive.chunkOverlap} characters`);\n",
    "console.log(`   Strategy: ${DEMO_CHUNKING_CONFIG.recursive.keepStrategy}`);\n",
    "console.log('   💡 This chunking config will be reused for all memory creation!');\n",
    "console.log();\n",
    "\n",
    "spacesApi.listSpaces()\n",
    "    .then(existingSpaces => {\n",
    "        // Check if space already exists\n",
    "        const spaces = existingSpaces.spaces || [];\n",
    "        const existing = spaces.find(space => space.name === SPACE_NAME);\n",
    "        \n",
    "        if (existing) {\n",
    "            console.log(`📁 Space '${SPACE_NAME}' already exists`);\n",
    "            console.log(`   Space ID: ${existing.spaceId}`);\n",
    "            console.log('   To remove existing space, see https://docs.goodmem.ai/docs/reference/cli/goodmem_space_delete/');\n",
    "            demoSpace = existing;\n",
    "            return existing;\n",
    "        }\n",
    "        \n",
    "        // Create space if it doesn't exist\n",
    "        const spaceEmbedders = [];\n",
    "        if (defaultEmbedder) {\n",
    "            spaceEmbedders.push({\n",
    "                embedderId: defaultEmbedder.embedderId,\n",
    "                defaultRetrievalWeight: 1.0\n",
    "            });\n",
    "        }\n",
    "        \n",
    "        const createRequest = {\n",
    "            name: SPACE_NAME,\n",
    "            labels: {\n",
    "                purpose: 'rag-demo',\n",
    "                environment: 'tutorial',\n",
    "                'content-type': 'documentation',\n",
    "                language: 'javascript'\n",
    "            },\n",
    "            spaceEmbedders: spaceEmbedders,\n",
    "            publicRead: false,\n",
    "            defaultChunkingConfig: DEMO_CHUNKING_CONFIG\n",
    "        };\n",
    "        \n",
    "        return spacesApi.createSpace(createRequest);\n",
    "    })\n",
    "    .then(space => {\n",
    "        if (!demoSpace) {\n",
    "            demoSpace = space;\n",
    "            console.log(`✅ Created space: ${space.name}`);\n",
    "            console.log(`   Space ID: ${space.spaceId}`);\n",
    "            console.log(`   Embedders: ${space.spaceEmbedders ? space.spaceEmbedders.length : 0}`);\n",
    "            console.log(`   Labels: ${JSON.stringify(space.labels)}`);\n",
    "            console.log(`   Chunking Config Saved: ${DEMO_CHUNKING_CONFIG.recursive.chunkSize} chars with ${DEMO_CHUNKING_CONFIG.recursive.chunkOverlap} overlap`);\n",
    "        }\n",
    "    })\n",
    "    .catch(error => {\n",
    "        console.log('❌ Error creating space:', error.message);\n",
    "        if (error.status) {\n",
    "            console.log('   Response code:', error.status);\n",
    "        }\n",
    "    });"
   ]
  },
  {
   "cell_type": "code",
   "execution_count": 7,
   "metadata": {},
   "outputs": [
    {
     "data": {
      "text/plain": [
       "Promise { <pending> }"
      ]
     },
     "execution_count": 7,
     "metadata": {},
     "output_type": "execute_result"
    },
    {
     "name": "stdout",
     "output_type": "stream",
     "text": [
      "🔍 Space Configuration:\n",
      "   Name: RAG Demo Knowledge Base (JavaScript)\n",
      "   Owner ID: 18065bc0-47ee-4e80-b71a-1bc5bf09c28c\n",
      "   Public Read: false\n",
      "   Created: 2025-09-29T20:39:14.095Z\n",
      "   Labels: {\"purpose\":\"rag-demo\",\"language\":\"javascript\",\"environment\":\"tutorial\",\"content-type\":\"documentation\"}\n",
      "\n",
      "🤖 Associated Embedders:\n",
      "   Embedder ID: f7be2db4-6c48-402e-b5db-4daa25ba1584\n",
      "   Retrieval Weight: 1\n"
     ]
    }
   ],
   "source": [
    "// Verify our space configuration\n",
    "if (demoSpace) {\n",
    "    spacesApi.getSpace(demoSpace.spaceId)\n",
    "        .then(spaceDetails => {\n",
    "            console.log('🔍 Space Configuration:');\n",
    "            console.log(`   Name: ${spaceDetails.name}`);\n",
    "            console.log(`   Owner ID: ${spaceDetails.ownerId}`);\n",
    "            console.log(`   Public Read: ${spaceDetails.publicRead}`);\n",
    "            console.log(`   Created: ${new Date(spaceDetails.createdAt).toISOString()}`);\n",
    "            console.log(`   Labels: ${JSON.stringify(spaceDetails.labels)}`);\n",
    "            \n",
    "            console.log('\\n🤖 Associated Embedders:');\n",
    "            if (spaceDetails.spaceEmbedders && spaceDetails.spaceEmbedders.length > 0) {\n",
    "                spaceDetails.spaceEmbedders.forEach(embedderAssoc => {\n",
    "                    console.log(`   Embedder ID: ${embedderAssoc.embedderId}`);\n",
    "                    console.log(`   Retrieval Weight: ${embedderAssoc.defaultRetrievalWeight}`);\n",
    "                });\n",
    "            } else {\n",
    "                console.log('   No embedders configured');\n",
    "            }\n",
    "        })\n",
    "        .catch(error => {\n",
    "            console.log('❌ Error getting space details:', error.message);\n",
    "        });\n",
    "} else {\n",
    "    console.log('⚠️  No space available for the demo');\n",
    "}"
   ]
  },
  {
   "cell_type": "markdown",
   "metadata": {},
   "source": [
    "## Adding Documents to Memory\n",
    "\n",
    "Now let's add some sample documents to our space. GoodMem will automatically:\n",
    "- **Chunk** the documents into optimal sizes\n",
    "- **Generate embeddings** using the configured embedders\n",
    "- **Index** the content for fast retrieval\n",
    "\n",
    "We'll use sample company documents that represent common business use cases:"
   ]
  },
  {
   "cell_type": "code",
   "execution_count": 8,
   "metadata": {},
   "outputs": [
    {
     "data": {
      "text/plain": [
       "Promise { <pending> }"
      ]
     },
     "execution_count": 8,
     "metadata": {},
     "output_type": "execute_result"
    },
    {
     "name": "stdout",
     "output_type": "stream",
     "text": [
      "📄 Loaded: company_handbook.txt (2,342 characters)\n",
      "📄 Loaded: technical_documentation.txt (2,384 characters)\n",
      "📄 Loaded: product_faq.txt (4,043 characters)\n",
      "📄 Loaded: security_policy.txt (4,211 characters)\n",
      "\n",
      "📚 Total documents loaded: 4\n"
     ]
    }
   ],
   "source": [
    "// Load our sample documents\n",
    "async function loadSampleDocuments() {\n",
    "    const documents = [];\n",
    "    const sampleDir = 'sample_documents';\n",
    "    \n",
    "    const docFiles = {\n",
    "        'company_handbook.txt': 'Employee handbook with policies and procedures',\n",
    "        'technical_documentation.txt': 'API documentation and technical guides',\n",
    "        'product_faq.txt': 'Frequently asked questions about products',\n",
    "        'security_policy.txt': 'Information security policies and procedures'\n",
    "    };\n",
    "    \n",
    "    for (const [filename, description] of Object.entries(docFiles)) {\n",
    "        const filepath = path.join(sampleDir, filename);\n",
    "        \n",
    "        try {\n",
    "            const content = await fs.readFile(filepath, 'utf-8');\n",
    "            documents.push({ filename, description, content });\n",
    "            console.log(`📄 Loaded: ${filename} (${content.length.toLocaleString()} characters)`);\n",
    "        } catch (error) {\n",
    "            console.log(`⚠️  File not found: ${filepath}`);\n",
    "        }\n",
    "    }\n",
    "    \n",
    "    return documents;\n",
    "}\n",
    "\n",
    "// Load the documents\n",
    "let sampleDocs = [];\n",
    "loadSampleDocuments()\n",
    "    .then(docs => {\n",
    "        sampleDocs = docs;\n",
    "        console.log(`\\n📚 Total documents loaded: ${docs.length}`);\n",
    "    })\n",
    "    .catch(error => {\n",
    "        console.log('❌ Error loading documents:', error.message);\n",
    "    });"
   ]
  },
  {
   "cell_type": "code",
   "execution_count": 9,
   "metadata": {},
   "outputs": [
    {
     "name": "stdout",
     "output_type": "stream",
     "text": [
      "📝 Creating first document using CreateMemory API:\n",
      "   Document: company_handbook.txt\n",
      "   Method: Individual memory creation\n",
      "\n"
     ]
    },
    {
     "data": {
      "text/plain": [
       "Promise { <pending> }"
      ]
     },
     "execution_count": 9,
     "metadata": {},
     "output_type": "execute_result"
    },
    {
     "name": "stdout",
     "output_type": "stream",
     "text": [
      "✅ Created single memory: company_handbook.txt\n",
      "   Memory ID: c8721a1c-e210-42c0-b320-72625df0e2ec\n",
      "   Status: PENDING\n",
      "   Content Length: 2342 characters\n",
      "\n",
      "🎯 Single memory creation completed successfully!\n"
     ]
    }
   ],
   "source": [
    "// Create the first memory individually to demonstrate single memory creation\n",
    "function createSingleMemory(spaceId, document) {\n",
    "    const memoryRequest = {\n",
    "        spaceId: spaceId,\n",
    "        originalContent: document.content,\n",
    "        contentType: 'text/plain',\n",
    "        chunkingConfig: DEMO_CHUNKING_CONFIG,\n",
    "        metadata: {\n",
    "            filename: document.filename,\n",
    "            description: document.description,\n",
    "            source: 'sample_documents',\n",
    "            document_type: document.filename.split('_')[0],\n",
    "            ingestion_method: 'single'\n",
    "        }\n",
    "    };\n",
    "    \n",
    "    return memoriesApi.createMemory(memoryRequest)\n",
    "        .then(memory => {\n",
    "            console.log(`✅ Created single memory: ${document.filename}`);\n",
    "            console.log(`   Memory ID: ${memory.memoryId}`);\n",
    "            console.log(`   Status: ${memory.processingStatus}`);\n",
    "            console.log(`   Content Length: ${document.content.length} characters`);\n",
    "            console.log();\n",
    "            return memory;\n",
    "        })\n",
    "        .catch(error => {\n",
    "            console.log(`❌ Error creating memory for ${document.filename}:`, error.message);\n",
    "            return null;\n",
    "        });\n",
    "}\n",
    "\n",
    "let singleMemory = null;\n",
    "if (demoSpace && sampleDocs.length > 0) {\n",
    "    const firstDoc = sampleDocs[0];\n",
    "    console.log('📝 Creating first document using CreateMemory API:');\n",
    "    console.log(`   Document: ${firstDoc.filename}`);\n",
    "    console.log('   Method: Individual memory creation');\n",
    "    console.log();\n",
    "    \n",
    "    createSingleMemory(demoSpace.spaceId, firstDoc)\n",
    "        .then(memory => {\n",
    "            singleMemory = memory;\n",
    "            if (memory) {\n",
    "                console.log('🎯 Single memory creation completed successfully!');\n",
    "            } else {\n",
    "                console.log('⚠️  Single memory creation failed');\n",
    "            }\n",
    "        });\n",
    "} else {\n",
    "    console.log('⚠️  Cannot create memory: missing space or documents');\n",
    "}"
   ]
  },
  {
   "cell_type": "code",
   "execution_count": 10,
   "metadata": {},
   "outputs": [
    {
     "name": "stdout",
     "output_type": "stream",
     "text": [
      "📖 Retrieving memory details using getMemory API:\n",
      "   Memory ID: c8721a1c-e210-42c0-b320-72625df0e2ec\n",
      "\n"
     ]
    },
    {
     "data": {
      "text/plain": [
       "Promise { <pending> }"
      ]
     },
     "execution_count": 10,
     "metadata": {},
     "output_type": "execute_result"
    },
    {
     "name": "stdout",
     "output_type": "stream",
     "text": [
      "✅ Successfully retrieved memory:\n",
      "   Memory ID: c8721a1c-e210-42c0-b320-72625df0e2ec\n",
      "   Space ID: 1bc738e9-c319-410e-b2c1-9a172d552ed7\n",
      "   Status: COMPLETED\n",
      "   Content Type: text/plain\n",
      "   Created At: 2025-09-29T20:40:53.070Z\n",
      "   Updated At: 2025-09-29T20:40:55.833Z\n",
      "\n",
      "   📋 Metadata:\n",
      "      source: sample_documents\n",
      "      filename: company_handbook.txt\n",
      "      description: Employee handbook with policies and procedures\n",
      "      document_type: company\n",
      "      ingestion_method: single\n",
      "\n",
      "📖 Retrieving memory with content:\n",
      "✅ Content retrieved and decoded:\n",
      "   Content length: 2342 characters\n",
      "   First 200 chars: ACME Corporation Employee Handbook\n",
      "\n",
      "Welcome to ACME Corporation! This handbook provides essential information about our company policies, procedures, and culture.\n",
      "\n",
      "COMPANY OVERVIEW\n",
      "ACME Corporation is...\n"
     ]
    }
   ],
   "source": [
    "// Demonstrate retrieving a memory by ID using getMemory\n",
    "if (singleMemory) {\n",
    "    console.log('📖 Retrieving memory details using getMemory API:');\n",
    "    console.log(`   Memory ID: ${singleMemory.memoryId}`);\n",
    "    console.log();\n",
    "    \n",
    "    // Retrieve the memory without content\n",
    "    memoriesApi.getMemory(singleMemory.memoryId, { includeContent: false })\n",
    "        .then(retrievedMemory => {\n",
    "            console.log('✅ Successfully retrieved memory:');\n",
    "            console.log(`   Memory ID: ${retrievedMemory.memoryId}`);\n",
    "            console.log(`   Space ID: ${retrievedMemory.spaceId}`);\n",
    "            console.log(`   Status: ${retrievedMemory.processingStatus}`);\n",
    "            console.log(`   Content Type: ${retrievedMemory.contentType}`);\n",
    "            console.log(`   Created At: ${new Date(retrievedMemory.createdAt).toISOString()}`);\n",
    "            console.log(`   Updated At: ${new Date(retrievedMemory.updatedAt).toISOString()}`);\n",
    "            \n",
    "            if (retrievedMemory.metadata) {\n",
    "                console.log('\\n   📋 Metadata:');\n",
    "                for (const [key, value] of Object.entries(retrievedMemory.metadata)) {\n",
    "                    console.log(`      ${key}: ${value}`);\n",
    "                }\n",
    "            }\n",
    "            \n",
    "            // Now retrieve with content included\n",
    "            console.log('\\n📖 Retrieving memory with content:');\n",
    "            return memoriesApi.getMemory(singleMemory.memoryId, { includeContent: true });\n",
    "        })\n",
    "        .then(retrievedWithContent => {\n",
    "            if (retrievedWithContent.originalContent) {\n",
    "                // Decode the base64 encoded content\n",
    "                const decodedContent = Buffer.from(retrievedWithContent.originalContent, 'base64').toString('utf-8');\n",
    "                \n",
    "                console.log('✅ Content retrieved and decoded:');\n",
    "                console.log(`   Content length: ${decodedContent.length} characters`);\n",
    "                const preview = decodedContent.length > 200 ? decodedContent.substring(0, 200) + '...' : decodedContent;\n",
    "                console.log(`   First 200 chars: ${preview}`);\n",
    "            } else {\n",
    "                console.log('⚠️  No content available');\n",
    "            }\n",
    "        })\n",
    "        .catch(error => {\n",
    "            console.log('❌ Error retrieving memory:', error.message);\n",
    "            if (error.status) {\n",
    "                console.log('   Status code:', error.status);\n",
    "            }\n",
    "        });\n",
    "} else {\n",
    "    console.log('⚠️  No memory available to retrieve');\n",
    "}"
   ]
  },
  {
   "cell_type": "code",
   "execution_count": 11,
   "metadata": {},
   "outputs": [
    {
     "name": "stdout",
     "output_type": "stream",
     "text": [
      "📦 Creating 3 memories using BatchCreateMemory API:\n"
     ]
    },
    {
     "data": {
      "text/plain": [
       "Promise { <pending> }"
      ]
     },
     "execution_count": 11,
     "metadata": {},
     "output_type": "execute_result"
    },
    {
     "name": "stdout",
     "output_type": "stream",
     "text": [
      "✅ Batch creation request submitted successfully\n",
      "\n",
      "📋 Total Memory Creation Summary:\n",
      "   📄 Single CreateMemory: 1 document\n",
      "   📦 Batch CreateMemory: 3 documents submitted\n",
      "   ⏳ Check processing status in the next cell\n"
     ]
    }
   ],
   "source": [
    "// Create the remaining documents using batch memory creation\n",
    "function createBatchMemories(spaceId, documents) {\n",
    "    const memoryRequests = documents.map(doc => ({\n",
    "        spaceId: spaceId,\n",
    "        originalContent: doc.content,\n",
    "        contentType: 'text/plain',\n",
    "        chunkingConfig: DEMO_CHUNKING_CONFIG,\n",
    "        metadata: {\n",
    "            filename: doc.filename,\n",
    "            description: doc.description,\n",
    "            source: 'sample_documents',\n",
    "            document_type: doc.filename.split('_')[0],\n",
    "            ingestion_method: 'batch'\n",
    "        }\n",
    "    }));\n",
    "    \n",
    "    const batchRequest = {\n",
    "        requests: memoryRequests\n",
    "    };\n",
    "    \n",
    "    console.log(`📦 Creating ${memoryRequests.length} memories using BatchCreateMemory API:`);\n",
    "    \n",
    "    return memoriesApi.batchCreateMemory(batchRequest)\n",
    "        .then(() => {\n",
    "            console.log('✅ Batch creation request submitted successfully');\n",
    "        })\n",
    "        .catch(error => {\n",
    "            console.log('❌ Error during batch creation:', error.message);\n",
    "            if (error.status) {\n",
    "                console.log('   Response code:', error.status);\n",
    "            }\n",
    "        });\n",
    "}\n",
    "\n",
    "if (demoSpace && sampleDocs.length > 1) {\n",
    "    const remainingDocs = sampleDocs.slice(1);\n",
    "    createBatchMemories(demoSpace.spaceId, remainingDocs)\n",
    "        .then(() => {\n",
    "            console.log('\\n📋 Total Memory Creation Summary:');\n",
    "            console.log('   📄 Single CreateMemory: 1 document');\n",
    "            console.log(`   📦 Batch CreateMemory: ${remainingDocs.length} documents submitted`);\n",
    "            console.log('   ⏳ Check processing status in the next cell');\n",
    "        });\n",
    "} else {\n",
    "    console.log('⚠️  Cannot create batch memories: insufficient documents or missing space');\n",
    "}"
   ]
  },
  {
   "cell_type": "code",
   "execution_count": 12,
   "metadata": {},
   "outputs": [
    {
     "data": {
      "text/plain": [
       "Promise { <pending> }"
      ]
     },
     "execution_count": 12,
     "metadata": {},
     "output_type": "execute_result"
    },
    {
     "name": "stdout",
     "output_type": "stream",
     "text": [
      "📚 Memories in space 'RAG Demo Knowledge Base (JavaScript)':\n",
      "   Total memories: 4\n",
      "\n",
      "   1. company_handbook.txt\n",
      "      Status: COMPLETED\n",
      "      Description: Employee handbook with policies and procedures\n",
      "      Created: 2025-09-29T20:40:53.070Z\n",
      "\n",
      "   2. technical_documentation.txt\n",
      "      Status: COMPLETED\n",
      "      Description: API documentation and technical guides\n",
      "      Created: 2025-09-29T20:42:07.982Z\n",
      "\n",
      "   3. security_policy.txt\n",
      "      Status: COMPLETED\n",
      "      Description: Information security policies and procedures\n",
      "      Created: 2025-09-29T20:42:07.982Z\n",
      "\n",
      "   4. product_faq.txt\n",
      "      Status: COMPLETED\n",
      "      Description: Frequently asked questions about products\n",
      "      Created: 2025-09-29T20:42:07.982Z\n",
      "\n"
     ]
    }
   ],
   "source": [
    "// List all memories in our space to verify they're ready\n",
    "if (demoSpace) {\n",
    "    memoriesApi.listMemories(demoSpace.spaceId)\n",
    "        .then(memoriesResponse => {\n",
    "            const memories = memoriesResponse.memories || [];\n",
    "            \n",
    "            console.log(`📚 Memories in space '${demoSpace.name}':`);\n",
    "            console.log(`   Total memories: ${memories.length}`);\n",
    "            console.log();\n",
    "            \n",
    "            memories.forEach((memory, i) => {\n",
    "                const metadata = memory.metadata || {};\n",
    "                const filename = metadata.filename || 'Unknown';\n",
    "                const description = metadata.description || 'No description';\n",
    "                \n",
    "                console.log(`   ${i + 1}. ${filename}`);\n",
    "                console.log(`      Status: ${memory.processingStatus}`);\n",
    "                console.log(`      Description: ${description}`);\n",
    "                console.log(`      Created: ${new Date(memory.createdAt).toISOString()}`);\n",
    "                console.log();\n",
    "            });\n",
    "        })\n",
    "        .catch(error => {\n",
    "            console.log('❌ Error listing memories:', error.message);\n",
    "        });\n",
    "}"
   ]
  },
  {
   "cell_type": "code",
   "execution_count": 13,
   "metadata": {},
   "outputs": [
    {
     "name": "stdout",
     "output_type": "stream",
     "text": [
      "⏳ Waiting for document processing to complete...\n",
      "   💡 Note: Batch memories are processed asynchronously, so we check by listing all memories in the space\n",
      "\n"
     ]
    },
    {
     "data": {
      "text/plain": [
       "Promise { <pending> }"
      ]
     },
     "execution_count": 13,
     "metadata": {},
     "output_type": "execute_result"
    },
    {
     "name": "stdout",
     "output_type": "stream",
     "text": [
      "📊 Processing status: {\"COMPLETED\":4} (Total: 4 memories)\n",
      "✅ All documents processed successfully!\n",
      "🎉 Ready for semantic search and retrieval!\n",
      "📈 Batch API benefit: Multiple documents submitted in a single API call\n",
      "🔧 Consistent chunking: All memories use DEMO_CHUNKING_CONFIG\n"
     ]
    }
   ],
   "source": [
    "// Monitor processing status for all created memories\n",
    "async function waitForProcessingCompletion(spaceId, maxWaitSeconds = 120) {\n",
    "    console.log('⏳ Waiting for document processing to complete...');\n",
    "    console.log('   💡 Note: Batch memories are processed asynchronously, so we check by listing all memories in the space');\n",
    "    console.log();\n",
    "    \n",
    "    const startTime = Date.now();\n",
    "    const maxWaitMs = maxWaitSeconds * 1000;\n",
    "    \n",
    "    while (Date.now() - startTime < maxWaitMs) {\n",
    "        try {\n",
    "            const memoriesResponse = await memoriesApi.listMemories(spaceId);\n",
    "            const memories = memoriesResponse.memories || [];\n",
    "            \n",
    "            // Check processing status\n",
    "            const statusCounts = {};\n",
    "            memories.forEach(memory => {\n",
    "                const status = memory.processingStatus;\n",
    "                statusCounts[status] = (statusCounts[status] || 0) + 1;\n",
    "            });\n",
    "            \n",
    "            console.log(`📊 Processing status: ${JSON.stringify(statusCounts)} (Total: ${memories.length} memories)`);\n",
    "            \n",
    "            // Check if all are completed\n",
    "            const allCompleted = memories.every(memory => memory.processingStatus === 'COMPLETED');\n",
    "            if (allCompleted) {\n",
    "                console.log('✅ All documents processed successfully!');\n",
    "                return true;\n",
    "            }\n",
    "            \n",
    "            // Check for any failures\n",
    "            const failedCount = statusCounts['FAILED'] || 0;\n",
    "            if (failedCount > 0) {\n",
    "                console.log(`❌ ${failedCount} memories failed processing`);\n",
    "                return false;\n",
    "            }\n",
    "            \n",
    "            await new Promise(resolve => setTimeout(resolve, 5000)); // Wait 5 seconds\n",
    "        } catch (error) {\n",
    "            console.log('❌ Error checking processing status:', error.message);\n",
    "            return false;\n",
    "        }\n",
    "    }\n",
    "    \n",
    "    console.log(`⏰ Timeout waiting for processing (waited ${maxWaitSeconds}s)`);\n",
    "    return false;\n",
    "}\n",
    "\n",
    "if (demoSpace) {\n",
    "    waitForProcessingCompletion(demoSpace.spaceId)\n",
    "        .then(processingComplete => {\n",
    "            if (processingComplete) {\n",
    "                console.log('🎉 Ready for semantic search and retrieval!');\n",
    "                console.log('📈 Batch API benefit: Multiple documents submitted in a single API call');\n",
    "                console.log('🔧 Consistent chunking: All memories use DEMO_CHUNKING_CONFIG');\n",
    "            } else {\n",
    "                console.log('⚠️  Some documents may still be processing. You can continue with the tutorial.');\n",
    "            }\n",
    "        });\n",
    "} else {\n",
    "    console.log('⚠️  Skipping processing check - no space available');\n",
    "}"
   ]
  },
  {
   "cell_type": "markdown",
   "metadata": {},
   "source": [
    "## Semantic Search & Retrieval\n",
    "\n",
    "Now comes the exciting part! Let's perform semantic search using GoodMem's streaming API. This will:\n",
    "\n",
    "- **Find relevant chunks** based on semantic similarity\n",
    "- **Stream results** in real-time\n",
    "- **Include relevance scores** for ranking\n",
    "- **Return structured data** for easy processing"
   ]
  },
  {
   "cell_type": "code",
   "execution_count": 15,
   "metadata": {},
   "outputs": [
    {
     "name": "stdout",
     "output_type": "stream",
     "text": [
      "🔍 Streaming search for: 'What is the vacation policy for employees?'\n",
      "📁 Space ID: 1bc738e9-c319-410e-b2c1-9a172d552ed7\n",
      "📊 Max results: 5\n",
      "--------------------------------------------------\n"
     ]
    },
    {
     "data": {
      "text/plain": [
       "Promise { <pending> }"
      ]
     },
     "execution_count": 15,
     "metadata": {},
     "output_type": "execute_result"
    },
    {
     "name": "stdout",
     "output_type": "stream",
     "text": [
      "🔄 BEGIN: retrieve\n",
      "📄 Chunk 1:\n",
      "   Relevance: -0.604\n",
      "   Text: TIME OFF POLICY\n",
      "All full-time employees receive:\n",
      "- 15 days of paid vacation annually (increases to 2...\n",
      "\n",
      "📄 Chunk 2:\n",
      "   Relevance: -0.544\n",
      "   Text: Vacation requests should be submitted at least 2 weeks in advance through the HR portal. Sick leave ...\n",
      "\n",
      "📄 Chunk 3:\n",
      "   Relevance: -0.459\n",
      "   Text: - Report suspicious emails or security incidents immediately\n",
      "\n",
      "REMOTE WORK SECURITY\n",
      "Remote employees ...\n",
      "\n",
      "📄 Chunk 4:\n",
      "   Relevance: -0.458\n",
      "   Text: WORK HOURS AND POLICIES\n",
      "Standard work hours are 9:00 AM to 5:30 PM, Monday through Friday. We offer ...\n",
      "\n",
      "📄 Chunk 5:\n",
      "   Relevance: -0.422\n",
      "   Text: This policy is effective immediately and supersedes all previous versions.\n",
      "\n",
      "🔄 END: \n",
      "✅ Streaming search completed: 5 chunks found, 10 events processed\n",
      "\n",
      "✅ Search completed with 5 results\n"
     ]
    }
   ],
   "source": [
    "// Perform semantic search using GoodMem's streaming API\n",
    "async function semanticSearchStreaming(query, spaceId, maxResults = 5) {\n",
    "    console.log(`🔍 Streaming search for: '${query}'`);\n",
    "    console.log(`📁 Space ID: ${spaceId}`);\n",
    "    console.log(`📊 Max results: ${maxResults}`);\n",
    "    console.log('-'.repeat(50));\n",
    "    \n",
    "    try {\n",
    "        const controller = new AbortController();\n",
    "        const timeoutId = setTimeout(() => {\n",
    "            console.log('⏰ Streaming timeout after 30 seconds');\n",
    "            controller.abort();\n",
    "        }, 30000);\n",
    "        \n",
    "        // Create request object with proper structure\n",
    "        const request = {\n",
    "            message: query,\n",
    "            spaceIds: [spaceId],\n",
    "            requestedSize: maxResults,\n",
    "            fetchMemory: true,\n",
    "            fetchMemoryContent: false,\n",
    "            format: GoodMemClient.StreamingClient.StreamingFormat.NDJSON\n",
    "        };\n",
    "        \n",
    "        const stream = await streamingClient.retrieveMemoryStream(\n",
    "            controller.signal,\n",
    "            request\n",
    "        );\n",
    "        \n",
    "        const retrievedChunks = [];\n",
    "        let eventCount = 0;\n",
    "        \n",
    "        for await (const event of stream) {\n",
    "            eventCount++;\n",
    "            \n",
    "            if (event.retrievedItem && event.retrievedItem.chunk) {\n",
    "                const chunkRef = event.retrievedItem.chunk;\n",
    "                const chunkData = chunkRef.chunk || {};\n",
    "                const chunkText = chunkData.chunkText || '';\n",
    "                \n",
    "                retrievedChunks.push({\n",
    "                    chunkText: chunkText,\n",
    "                    relevanceScore: chunkRef.relevanceScore,\n",
    "                    memoryIndex: chunkRef.memoryIndex,\n",
    "                    resultSetId: chunkRef.resultSetId,\n",
    "                    chunkSequence: chunkData.chunkSequenceNumber || 0\n",
    "                });\n",
    "                \n",
    "                console.log(`📄 Chunk ${retrievedChunks.length}:`);\n",
    "                console.log(`   Relevance: ${chunkRef.relevanceScore.toFixed(3)}`);\n",
    "                const preview = chunkText.length > 100 ? chunkText.substring(0, 100) + '...' : chunkText;\n",
    "                console.log(`   Text: ${preview}`);\n",
    "                console.log();\n",
    "            } else if (event.resultSetBoundary) {\n",
    "                console.log(`🔄 ${event.resultSetBoundary.kind}: ${event.resultSetBoundary.stageName}`);\n",
    "            }\n",
    "        }\n",
    "        \n",
    "        clearTimeout(timeoutId);\n",
    "        \n",
    "        console.log(`✅ Streaming search completed: ${retrievedChunks.length} chunks found, ${eventCount} events processed`);\n",
    "        return retrievedChunks;\n",
    "    } catch (error) {\n",
    "        if (error.name === 'AbortError' || error.message.includes('aborted')) {\n",
    "            console.log('Stream completed or cancelled');\n",
    "        } else {\n",
    "            console.log('❌ Streaming error:', error.message);\n",
    "        }\n",
    "        return [];\n",
    "    }\n",
    "}\n",
    "\n",
    "// Test semantic search with a sample query\n",
    "if (demoSpace && streamingClient) {\n",
    "    const sampleQuery = 'What is the vacation policy for employees?';\n",
    "    semanticSearchStreaming(sampleQuery, demoSpace.spaceId)\n",
    "        .then(searchResults => {\n",
    "            console.log(`\\n✅ Search completed with ${searchResults.length} results`);\n",
    "        });\n",
    "} else if (!streamingClient) {\n",
    "    console.log('⚠️  StreamingClient not available for search');\n",
    "} else {\n",
    "    console.log('⚠️  No space available for search');\n",
    "}"
   ]
  },
  {
   "cell_type": "code",
   "execution_count": 17,
   "metadata": {},
   "outputs": [
    {
     "name": "stdout",
     "output_type": "stream",
     "text": [
      "\n",
      "🔍 Test Query 1: How do I reset my password?\n",
      "============================================================\n",
      "🔍 Streaming search for: 'How do I reset my password?'\n",
      "📁 Space ID: 1bc738e9-c319-410e-b2c1-9a172d552ed7\n",
      "📊 Max results: 3\n",
      "--------------------------------------------------\n"
     ]
    },
    {
     "data": {
      "text/plain": [
       "Promise { <pending> }"
      ]
     },
     "execution_count": 17,
     "metadata": {},
     "output_type": "execute_result"
    },
    {
     "name": "stdout",
     "output_type": "stream",
     "text": [
      "🔄 BEGIN: retrieve\n",
      "📄 Chunk 1:\n",
      "   Relevance: -0.478\n",
      "   Text: For additional questions not covered here, please contact our support team at support@acme.com or vi...\n",
      "\n",
      "📄 Chunk 2:\n",
      "   Relevance: -0.475\n",
      "   Text: POST /users\n",
      "Create a new user account\n",
      "Required fields:\n",
      "- email: Valid email address\n",
      "- password: Mini...\n",
      "\n",
      "📄 Chunk 3:\n",
      "   Relevance: -0.448\n",
      "   Text: AUTHENTICATION\n",
      "All API requests require authentication using API keys. Include your API key in the r...\n",
      "\n",
      "🔄 END: \n",
      "✅ Streaming search completed: 3 chunks found, 8 events processed\n",
      "\n",
      "------------------------------------------------------------\n",
      "\n",
      "🔍 Test Query 2: What are the security requirements for remote work?\n",
      "============================================================\n",
      "🔍 Streaming search for: 'What are the security requirements for remote work?'\n",
      "📁 Space ID: 1bc738e9-c319-410e-b2c1-9a172d552ed7\n",
      "📊 Max results: 3\n",
      "--------------------------------------------------\n",
      "🔄 BEGIN: retrieve\n",
      "📄 Chunk 1:\n",
      "   Relevance: -0.757\n",
      "   Text: - Report suspicious emails or security incidents immediately\n",
      "\n",
      "REMOTE WORK SECURITY\n",
      "Remote employees ...\n",
      "\n",
      "📄 Chunk 2:\n",
      "   Relevance: -0.635\n",
      "   Text: - Allow security audits of their relevant systems\n",
      "\n",
      "📄 Chunk 3:\n",
      "   Relevance: -0.521\n",
      "   Text: - Keep work devices physically secure and locked when unattended\n",
      "- Use only approved cloud storage s...\n",
      "\n",
      "🔄 END: \n",
      "✅ Streaming search completed: 3 chunks found, 7 events processed\n",
      "\n",
      "------------------------------------------------------------\n",
      "\n",
      "🔍 Test Query 3: API authentication and rate limits\n",
      "============================================================\n",
      "🔍 Streaming search for: 'API authentication and rate limits'\n",
      "📁 Space ID: 1bc738e9-c319-410e-b2c1-9a172d552ed7\n",
      "📊 Max results: 3\n",
      "--------------------------------------------------\n",
      "🔄 BEGIN: retrieve\n",
      "📄 Chunk 1:\n",
      "   Relevance: -0.695\n",
      "   Text: AUTHENTICATION\n",
      "All API requests require authentication using API keys. Include your API key in the r...\n",
      "\n",
      "📄 Chunk 2:\n",
      "   Relevance: -0.620\n",
      "   Text: BASE URL\n",
      "All API endpoints are accessed via:\n",
      "https://api.acme.com/v1/\n",
      "\n",
      "RATE LIMITING\n",
      "API requests ar...\n",
      "\n",
      "📄 Chunk 3:\n",
      "   Relevance: -0.572\n",
      "   Text: POST /users\n",
      "Create a new user account\n",
      "Required fields:\n",
      "- email: Valid email address\n",
      "- password: Mini...\n",
      "\n",
      "🔄 END: \n",
      "✅ Streaming search completed: 3 chunks found, 7 events processed\n",
      "\n",
      "------------------------------------------------------------\n",
      "\n",
      "🔍 Test Query 4: Employee benefits and health insurance\n",
      "============================================================\n",
      "🔍 Streaming search for: 'Employee benefits and health insurance'\n",
      "📁 Space ID: 1bc738e9-c319-410e-b2c1-9a172d552ed7\n",
      "📊 Max results: 3\n",
      "--------------------------------------------------\n",
      "🔄 BEGIN: retrieve\n",
      "📄 Chunk 1:\n",
      "   Relevance: -0.511\n",
      "   Text: - Health insurance with 90% premium coverage\n",
      "- Dental and vision insurance\n",
      "- 401(k) retirement plan ...\n",
      "\n",
      "📄 Chunk 2:\n",
      "   Relevance: -0.494\n",
      "   Text: AUTHENTICATION\n",
      "All API requests require authentication using API keys. Include your API key in the r...\n",
      "\n",
      "📄 Chunk 3:\n",
      "   Relevance: -0.464\n",
      "   Text: Vacation requests should be submitted at least 2 weeks in advance through the HR portal. Sick leave ...\n",
      "\n",
      "🔄 END: \n",
      "✅ Streaming search completed: 3 chunks found, 8 events processed\n",
      "\n",
      "------------------------------------------------------------\n",
      "\n",
      "🔍 Test Query 5: How much does the software cost?\n",
      "============================================================\n",
      "🔍 Streaming search for: 'How much does the software cost?'\n",
      "📁 Space ID: 1bc738e9-c319-410e-b2c1-9a172d552ed7\n",
      "📊 Max results: 3\n",
      "--------------------------------------------------\n",
      "🔄 BEGIN: retrieve\n",
      "📄 Chunk 1:\n",
      "   Relevance: -0.574\n",
      "   Text: A: We offer three pricing tiers:\n",
      "- Starter: $29/month for up to 5 users\n",
      "- Professional: $79/month fo...\n",
      "\n",
      "📄 Chunk 2:\n",
      "   Relevance: -0.524\n",
      "   Text: A: The ACME Software Suite is an integrated platform that provides business management tools includi...\n",
      "\n",
      "📄 Chunk 3:\n",
      "   Relevance: -0.485\n",
      "   Text: For additional questions not covered here, please contact our support team at support@acme.com or vi...\n",
      "\n",
      "🔄 END: \n",
      "✅ Streaming search completed: 3 chunks found, 7 events processed\n",
      "\n",
      "------------------------------------------------------------\n",
      "\n",
      "✅ All queries completed\n"
     ]
    }
   ],
   "source": [
    "// Let's try a few different queries to see how streaming semantic search works\n",
    "async function testMultipleStreamingQueries(spaceId) {\n",
    "    const testQueries = [\n",
    "        'How do I reset my password?',\n",
    "        'What are the security requirements for remote work?',\n",
    "        'API authentication and rate limits',\n",
    "        'Employee benefits and health insurance',\n",
    "        'How much does the software cost?'\n",
    "    ];\n",
    "    \n",
    "    for (let i = 0; i < testQueries.length; i++) {\n",
    "        const query = testQueries[i];\n",
    "        console.log(`\\n🔍 Test Query ${i + 1}: ${query}`);\n",
    "        console.log('='.repeat(60));\n",
    "        \n",
    "        await semanticSearchStreaming(query, spaceId, 3);\n",
    "        \n",
    "        console.log('\\n' + '-'.repeat(60));\n",
    "    }\n",
    "}\n",
    "\n",
    "if (demoSpace && streamingClient) {\n",
    "    testMultipleStreamingQueries(demoSpace.spaceId)\n",
    "        .then(() => console.log('\\n✅ All queries completed'));\n",
    "} else if (!streamingClient) {\n",
    "    console.log('⚠️  StreamingClient not available for testing multiple queries');\n",
    "} else {\n",
    "    console.log('⚠️  No space available for testing multiple streaming queries');\n",
    "}"
   ]
  },
  {
   "cell_type": "markdown",
   "metadata": {},
   "source": [
    "## Next Steps & Advanced Features\n",
    "\n",
    "Congratulations! 🎉 You've successfully built a semantic search system using GoodMem. Here's what you've accomplished:\n",
    "\n",
    "### ✅ What You Built\n",
    "- **Document ingestion pipeline** with automatic chunking and embedding\n",
    "- **Semantic search system** with relevance scoring\n",
    "- **Streaming retrieval** using GoodMem's real-time API\n",
    "\n",
    "### 🚀 Next Steps for Advanced Implementation\n",
    "\n",
    "#### 1. **Multiple Embedders & Reranking**\n",
    "- Coming Soon\n",
    "\n",
    "#### 2. **Integration with Popular Frameworks**\n",
    "- Coming Soon\n",
    "\n",
    "#### 3. **Advanced Post-Processing**\n",
    "- Coming Soon\n",
    "\n",
    "### 📚 Additional Resources\n",
    "\n",
    "**GoodMem Documentation:**\n",
    "- [Advanced Configuration Guide](https://docs.goodmem.ai/)"
   ]
  }
 ],
 "metadata": {
  "kernelspec": {
   "display_name": "JavaScript (Node.js)",
   "language": "javascript",
   "name": "javascript"
  },
  "language_info": {
   "file_extension": ".js",
   "mimetype": "application/javascript",
   "name": "javascript",
   "version": "20.19.5"
  },
  "polyglot_notebook": {
   "kernelInfo": {
    "defaultKernelName": "csharp",
    "items": [
     {
      "aliases": [],
      "name": "csharp"
     }
    ]
   }
  }
 },
 "nbformat": 4,
 "nbformat_minor": 4
}
